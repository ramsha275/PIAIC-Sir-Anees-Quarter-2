{
 "cells": [
  {
   "cell_type": "code",
   "execution_count": 1,
   "metadata": {},
   "outputs": [],
   "source": [
    "import tensorflow as tf"
   ]
  },
  {
   "cell_type": "code",
   "execution_count": 2,
   "metadata": {},
   "outputs": [
    {
     "data": {
      "text/plain": [
       "'1.14.0'"
      ]
     },
     "execution_count": 2,
     "metadata": {},
     "output_type": "execute_result"
    }
   ],
   "source": [
    "tf.__version__"
   ]
  },
  {
   "cell_type": "code",
   "execution_count": 3,
   "metadata": {},
   "outputs": [],
   "source": [
    "import pandas as pd"
   ]
  },
  {
   "cell_type": "code",
   "execution_count": 130,
   "metadata": {},
   "outputs": [
    {
     "data": {
      "text/html": [
       "<div>\n",
       "<style scoped>\n",
       "    .dataframe tbody tr th:only-of-type {\n",
       "        vertical-align: middle;\n",
       "    }\n",
       "\n",
       "    .dataframe tbody tr th {\n",
       "        vertical-align: top;\n",
       "    }\n",
       "\n",
       "    .dataframe thead th {\n",
       "        text-align: right;\n",
       "    }\n",
       "</style>\n",
       "<table border=\"1\" class=\"dataframe\">\n",
       "  <thead>\n",
       "    <tr style=\"text-align: right;\">\n",
       "      <th></th>\n",
       "      <th>0</th>\n",
       "      <th>1</th>\n",
       "      <th>2</th>\n",
       "      <th>3</th>\n",
       "      <th>4</th>\n",
       "    </tr>\n",
       "  </thead>\n",
       "  <tbody>\n",
       "    <tr>\n",
       "      <th>0</th>\n",
       "      <td>5.1</td>\n",
       "      <td>3.5</td>\n",
       "      <td>1.4</td>\n",
       "      <td>0.2</td>\n",
       "      <td>Setosa</td>\n",
       "    </tr>\n",
       "    <tr>\n",
       "      <th>1</th>\n",
       "      <td>4.9</td>\n",
       "      <td>3.0</td>\n",
       "      <td>1.4</td>\n",
       "      <td>0.2</td>\n",
       "      <td>Setosa</td>\n",
       "    </tr>\n",
       "    <tr>\n",
       "      <th>2</th>\n",
       "      <td>4.7</td>\n",
       "      <td>3.2</td>\n",
       "      <td>1.3</td>\n",
       "      <td>0.2</td>\n",
       "      <td>Setosa</td>\n",
       "    </tr>\n",
       "    <tr>\n",
       "      <th>3</th>\n",
       "      <td>4.6</td>\n",
       "      <td>3.1</td>\n",
       "      <td>1.5</td>\n",
       "      <td>0.2</td>\n",
       "      <td>Setosa</td>\n",
       "    </tr>\n",
       "    <tr>\n",
       "      <th>4</th>\n",
       "      <td>5.0</td>\n",
       "      <td>3.6</td>\n",
       "      <td>1.4</td>\n",
       "      <td>0.2</td>\n",
       "      <td>Setosa</td>\n",
       "    </tr>\n",
       "  </tbody>\n",
       "</table>\n",
       "</div>"
      ],
      "text/plain": [
       "     0    1    2    3       4\n",
       "0  5.1  3.5  1.4  0.2  Setosa\n",
       "1  4.9  3.0  1.4  0.2  Setosa\n",
       "2  4.7  3.2  1.3  0.2  Setosa\n",
       "3  4.6  3.1  1.5  0.2  Setosa\n",
       "4  5.0  3.6  1.4  0.2  Setosa"
      ]
     },
     "execution_count": 130,
     "metadata": {},
     "output_type": "execute_result"
    }
   ],
   "source": [
    "df = pd.read_csv(\"iris.csv\" , skiprows=1 , header=None)\n",
    "df.head()"
   ]
  },
  {
   "cell_type": "code",
   "execution_count": 131,
   "metadata": {},
   "outputs": [
    {
     "data": {
      "text/plain": [
       "array([[5.1, 3.5, 1.4, 0.2, 'Setosa'],\n",
       "       [4.9, 3.0, 1.4, 0.2, 'Setosa'],\n",
       "       [4.7, 3.2, 1.3, 0.2, 'Setosa']], dtype=object)"
      ]
     },
     "execution_count": 131,
     "metadata": {},
     "output_type": "execute_result"
    }
   ],
   "source": [
    "iris = df.values\n",
    "iris[:3]"
   ]
  },
  {
   "cell_type": "code",
   "execution_count": 154,
   "metadata": {},
   "outputs": [
    {
     "data": {
      "text/html": [
       "<div>\n",
       "<style scoped>\n",
       "    .dataframe tbody tr th:only-of-type {\n",
       "        vertical-align: middle;\n",
       "    }\n",
       "\n",
       "    .dataframe tbody tr th {\n",
       "        vertical-align: top;\n",
       "    }\n",
       "\n",
       "    .dataframe thead th {\n",
       "        text-align: right;\n",
       "    }\n",
       "</style>\n",
       "<table border=\"1\" class=\"dataframe\">\n",
       "  <thead>\n",
       "    <tr style=\"text-align: right;\">\n",
       "      <th></th>\n",
       "      <th>0</th>\n",
       "      <th>1</th>\n",
       "      <th>2</th>\n",
       "      <th>3</th>\n",
       "      <th>4</th>\n",
       "    </tr>\n",
       "  </thead>\n",
       "  <tbody>\n",
       "    <tr>\n",
       "      <th>135</th>\n",
       "      <td>7.7</td>\n",
       "      <td>3.0</td>\n",
       "      <td>6.1</td>\n",
       "      <td>2.3</td>\n",
       "      <td>Virginica</td>\n",
       "    </tr>\n",
       "    <tr>\n",
       "      <th>68</th>\n",
       "      <td>6.2</td>\n",
       "      <td>2.2</td>\n",
       "      <td>4.5</td>\n",
       "      <td>1.5</td>\n",
       "      <td>Versicolor</td>\n",
       "    </tr>\n",
       "    <tr>\n",
       "      <th>112</th>\n",
       "      <td>6.8</td>\n",
       "      <td>3.0</td>\n",
       "      <td>5.5</td>\n",
       "      <td>2.1</td>\n",
       "      <td>Virginica</td>\n",
       "    </tr>\n",
       "    <tr>\n",
       "      <th>148</th>\n",
       "      <td>6.2</td>\n",
       "      <td>3.4</td>\n",
       "      <td>5.4</td>\n",
       "      <td>2.3</td>\n",
       "      <td>Virginica</td>\n",
       "    </tr>\n",
       "    <tr>\n",
       "      <th>111</th>\n",
       "      <td>6.4</td>\n",
       "      <td>2.7</td>\n",
       "      <td>5.3</td>\n",
       "      <td>1.9</td>\n",
       "      <td>Virginica</td>\n",
       "    </tr>\n",
       "  </tbody>\n",
       "</table>\n",
       "</div>"
      ],
      "text/plain": [
       "       0    1    2    3           4\n",
       "135  7.7  3.0  6.1  2.3   Virginica\n",
       "68   6.2  2.2  4.5  1.5  Versicolor\n",
       "112  6.8  3.0  5.5  2.1   Virginica\n",
       "148  6.2  3.4  5.4  2.3   Virginica\n",
       "111  6.4  2.7  5.3  1.9   Virginica"
      ]
     },
     "execution_count": 154,
     "metadata": {},
     "output_type": "execute_result"
    }
   ],
   "source": [
    "df = df.sample(frac=1)\n",
    "df.head()"
   ]
  },
  {
   "cell_type": "code",
   "execution_count": 155,
   "metadata": {},
   "outputs": [
    {
     "data": {
      "text/plain": [
       "50"
      ]
     },
     "execution_count": 155,
     "metadata": {},
     "output_type": "execute_result"
    }
   ],
   "source": [
    "len(df[df[4] == 'Versicolor'])"
   ]
  },
  {
   "cell_type": "code",
   "execution_count": 156,
   "metadata": {},
   "outputs": [
    {
     "data": {
      "text/plain": [
       "50"
      ]
     },
     "execution_count": 156,
     "metadata": {},
     "output_type": "execute_result"
    }
   ],
   "source": [
    "len(df[df[4] == 'Virginica'])"
   ]
  },
  {
   "cell_type": "code",
   "execution_count": 157,
   "metadata": {},
   "outputs": [
    {
     "data": {
      "text/plain": [
       "50"
      ]
     },
     "execution_count": 157,
     "metadata": {},
     "output_type": "execute_result"
    }
   ],
   "source": [
    "(len(df[df[4] == 'Setosa']))"
   ]
  },
  {
   "cell_type": "code",
   "execution_count": 158,
   "metadata": {},
   "outputs": [],
   "source": [
    "svi = (df[4][:75]=='Virginica')\n"
   ]
  },
  {
   "cell_type": "code",
   "execution_count": 159,
   "metadata": {},
   "outputs": [
    {
     "data": {
      "text/plain": [
       "25"
      ]
     },
     "execution_count": 159,
     "metadata": {},
     "output_type": "execute_result"
    }
   ],
   "source": [
    "len(svi[svi])"
   ]
  },
  {
   "cell_type": "code",
   "execution_count": 160,
   "metadata": {},
   "outputs": [
    {
     "data": {
      "text/plain": [
       "27"
      ]
     },
     "execution_count": 160,
     "metadata": {},
     "output_type": "execute_result"
    }
   ],
   "source": [
    "sve = (df[4][:75]=='Versicolor')\n",
    "sve[sve].count()\n"
   ]
  },
  {
   "cell_type": "code",
   "execution_count": 161,
   "metadata": {},
   "outputs": [
    {
     "data": {
      "text/plain": [
       "23"
      ]
     },
     "execution_count": 161,
     "metadata": {},
     "output_type": "execute_result"
    }
   ],
   "source": [
    "se = (df[4][:75]=='Setosa')\n",
    "se[se].count()\n"
   ]
  },
  {
   "cell_type": "code",
   "execution_count": 162,
   "metadata": {},
   "outputs": [],
   "source": [
    "iris = df.values"
   ]
  },
  {
   "cell_type": "code",
   "execution_count": 169,
   "metadata": {},
   "outputs": [
    {
     "ename": "AttributeError",
     "evalue": "'float' object has no attribute 'dtypes'",
     "output_type": "error",
     "traceback": [
      "\u001b[1;31m---------------------------------------------------------------------------\u001b[0m",
      "\u001b[1;31mAttributeError\u001b[0m                            Traceback (most recent call last)",
      "\u001b[1;32m<ipython-input-169-01685164c41f>\u001b[0m in \u001b[0;36m<module>\u001b[1;34m\u001b[0m\n\u001b[1;32m----> 1\u001b[1;33m \u001b[0miris\u001b[0m\u001b[1;33m[\u001b[0m\u001b[1;36m0\u001b[0m\u001b[1;33m]\u001b[0m\u001b[1;33m[\u001b[0m\u001b[1;36m0\u001b[0m\u001b[1;33m]\u001b[0m\u001b[1;33m.\u001b[0m\u001b[0mdtypes\u001b[0m\u001b[1;33m\u001b[0m\u001b[1;33m\u001b[0m\u001b[0m\n\u001b[0m",
      "\u001b[1;31mAttributeError\u001b[0m: 'float' object has no attribute 'dtypes'"
     ]
    }
   ],
   "source": [
    "iris[0][0].dtypes"
   ]
  },
  {
   "cell_type": "code",
   "execution_count": 170,
   "metadata": {},
   "outputs": [],
   "source": [
    "x_train = iris[:90,:4].astype('float') \n",
    "y_train = iris[:90,4]\n",
    "x_test = iris[90:,:4].astype('float')\n",
    "y_test = iris[90:,4]"
   ]
  },
  {
   "cell_type": "code",
   "execution_count": 177,
   "metadata": {},
   "outputs": [
    {
     "data": {
      "text/html": [
       "<div>\n",
       "<style scoped>\n",
       "    .dataframe tbody tr th:only-of-type {\n",
       "        vertical-align: middle;\n",
       "    }\n",
       "\n",
       "    .dataframe tbody tr th {\n",
       "        vertical-align: top;\n",
       "    }\n",
       "\n",
       "    .dataframe thead th {\n",
       "        text-align: right;\n",
       "    }\n",
       "</style>\n",
       "<table border=\"1\" class=\"dataframe\">\n",
       "  <thead>\n",
       "    <tr style=\"text-align: right;\">\n",
       "      <th></th>\n",
       "      <th>0</th>\n",
       "      <th>1</th>\n",
       "      <th>2</th>\n",
       "      <th>3</th>\n",
       "      <th>4</th>\n",
       "    </tr>\n",
       "  </thead>\n",
       "  <tbody>\n",
       "    <tr>\n",
       "      <th>135</th>\n",
       "      <td>7.7</td>\n",
       "      <td>3.0</td>\n",
       "      <td>6.1</td>\n",
       "      <td>2.3</td>\n",
       "      <td>Virginica</td>\n",
       "    </tr>\n",
       "    <tr>\n",
       "      <th>68</th>\n",
       "      <td>6.2</td>\n",
       "      <td>2.2</td>\n",
       "      <td>4.5</td>\n",
       "      <td>1.5</td>\n",
       "      <td>Versicolor</td>\n",
       "    </tr>\n",
       "    <tr>\n",
       "      <th>112</th>\n",
       "      <td>6.8</td>\n",
       "      <td>3.0</td>\n",
       "      <td>5.5</td>\n",
       "      <td>2.1</td>\n",
       "      <td>Virginica</td>\n",
       "    </tr>\n",
       "    <tr>\n",
       "      <th>148</th>\n",
       "      <td>6.2</td>\n",
       "      <td>3.4</td>\n",
       "      <td>5.4</td>\n",
       "      <td>2.3</td>\n",
       "      <td>Virginica</td>\n",
       "    </tr>\n",
       "    <tr>\n",
       "      <th>111</th>\n",
       "      <td>6.4</td>\n",
       "      <td>2.7</td>\n",
       "      <td>5.3</td>\n",
       "      <td>1.9</td>\n",
       "      <td>Virginica</td>\n",
       "    </tr>\n",
       "  </tbody>\n",
       "</table>\n",
       "</div>"
      ],
      "text/plain": [
       "       0    1    2    3           4\n",
       "135  7.7  3.0  6.1  2.3   Virginica\n",
       "68   6.2  2.2  4.5  1.5  Versicolor\n",
       "112  6.8  3.0  5.5  2.1   Virginica\n",
       "148  6.2  3.4  5.4  2.3   Virginica\n",
       "111  6.4  2.7  5.3  1.9   Virginica"
      ]
     },
     "execution_count": 177,
     "metadata": {},
     "output_type": "execute_result"
    }
   ],
   "source": [
    "df.head()"
   ]
  },
  {
   "cell_type": "code",
   "execution_count": 185,
   "metadata": {},
   "outputs": [],
   "source": [
    "from sklearn.preprocessing import LabelEncoder\n",
    "# encode class values as integers\n",
    "le = LabelEncoder()\n",
    "encoded_Y = le.fit_transform(y_train)\n",
    "encoded_y_train = tf.keras.utils.to_categorical(encoded_Y)\n",
    "encoded_Y = le.fit_transform(y_test)\n",
    "encoded_y_test = tf.keras.utils.to_categorical(encoded_Y)"
   ]
  },
  {
   "cell_type": "code",
   "execution_count": 188,
   "metadata": {},
   "outputs": [
    {
     "name": "stdout",
     "output_type": "stream",
     "text": [
      "WARNING:tensorflow:From F:\\Anaconda3\\lib\\site-packages\\tensorflow\\python\\ops\\init_ops.py:1251: calling VarianceScaling.__init__ (from tensorflow.python.ops.init_ops) with dtype is deprecated and will be removed in a future version.\n",
      "Instructions for updating:\n",
      "Call initializer instance with the dtype argument instead of passing it to the constructor\n"
     ]
    }
   ],
   "source": [
    "model = tf.keras.models.Sequential([\n",
    "  tf.keras.layers.Input(shape=(4,)),\n",
    "  tf.keras.layers.Dense(8, activation='relu'),\n",
    "  tf.keras.layers.Dense(3, activation='softmax')\n",
    "])"
   ]
  },
  {
   "cell_type": "code",
   "execution_count": 189,
   "metadata": {},
   "outputs": [],
   "source": [
    "model.compile(optimizer='adam',\n",
    "          loss='categorical_crossentropy',\n",
    "              metrics=['accuracy'])"
   ]
  },
  {
   "cell_type": "code",
   "execution_count": 190,
   "metadata": {},
   "outputs": [
    {
     "name": "stdout",
     "output_type": "stream",
     "text": [
      "Epoch 1/200\n",
      "90/90 [==============================] - 3s 39ms/sample - loss: 1.0251 - acc: 0.6000\n",
      "Epoch 2/200\n",
      "90/90 [==============================] - 0s 122us/sample - loss: 1.0198 - acc: 0.6000\n",
      "Epoch 3/200\n",
      "90/90 [==============================] - 0s 111us/sample - loss: 1.0148 - acc: 0.5889\n",
      "Epoch 4/200\n",
      "90/90 [==============================] - 0s 100us/sample - loss: 1.0101 - acc: 0.6000\n",
      "Epoch 5/200\n",
      "90/90 [==============================] - 0s 122us/sample - loss: 1.0052 - acc: 0.6222\n",
      "Epoch 6/200\n",
      "90/90 [==============================] - 0s 100us/sample - loss: 1.0008 - acc: 0.6556\n",
      "Epoch 7/200\n",
      "90/90 [==============================] - 0s 78us/sample - loss: 0.9965 - acc: 0.7111\n",
      "Epoch 8/200\n",
      "90/90 [==============================] - 0s 89us/sample - loss: 0.9920 - acc: 0.7667\n",
      "Epoch 9/200\n",
      "90/90 [==============================] - 0s 100us/sample - loss: 0.9875 - acc: 0.7889\n",
      "Epoch 10/200\n",
      "90/90 [==============================] - 0s 67us/sample - loss: 0.9832 - acc: 0.8333\n",
      "Epoch 11/200\n",
      "90/90 [==============================] - 0s 89us/sample - loss: 0.9793 - acc: 0.8333\n",
      "Epoch 12/200\n",
      "90/90 [==============================] - 0s 255us/sample - loss: 0.9746 - acc: 0.8556\n",
      "Epoch 13/200\n",
      "90/90 [==============================] - 0s 100us/sample - loss: 0.9705 - acc: 0.8333\n",
      "Epoch 14/200\n",
      "90/90 [==============================] - 0s 122us/sample - loss: 0.9663 - acc: 0.8444\n",
      "Epoch 15/200\n",
      "90/90 [==============================] - 0s 67us/sample - loss: 0.9622 - acc: 0.8444\n",
      "Epoch 16/200\n",
      "90/90 [==============================] - 0s 67us/sample - loss: 0.9581 - acc: 0.8444\n",
      "Epoch 17/200\n",
      "90/90 [==============================] - 0s 122us/sample - loss: 0.9539 - acc: 0.8333\n",
      "Epoch 18/200\n",
      "90/90 [==============================] - 0s 178us/sample - loss: 0.9499 - acc: 0.8333\n",
      "Epoch 19/200\n",
      "90/90 [==============================] - 0s 122us/sample - loss: 0.9457 - acc: 0.8333\n",
      "Epoch 20/200\n",
      "90/90 [==============================] - 0s 133us/sample - loss: 0.9416 - acc: 0.8333\n",
      "Epoch 21/200\n",
      "90/90 [==============================] - 0s 100us/sample - loss: 0.9374 - acc: 0.8333\n",
      "Epoch 22/200\n",
      "90/90 [==============================] - 0s 78us/sample - loss: 0.9335 - acc: 0.8333\n",
      "Epoch 23/200\n",
      "90/90 [==============================] - 0s 78us/sample - loss: 0.9289 - acc: 0.8444\n",
      "Epoch 24/200\n",
      "90/90 [==============================] - 0s 89us/sample - loss: 0.9248 - acc: 0.8444\n",
      "Epoch 25/200\n",
      "90/90 [==============================] - 0s 78us/sample - loss: 0.9201 - acc: 0.8444\n",
      "Epoch 26/200\n",
      "90/90 [==============================] - 0s 78us/sample - loss: 0.9159 - acc: 0.8444\n",
      "Epoch 27/200\n",
      "90/90 [==============================] - 0s 36us/sample - loss: 0.9114 - acc: 0.8444\n",
      "Epoch 28/200\n",
      "90/90 [==============================] - 0s 0s/sample - loss: 0.9071 - acc: 0.8444\n",
      "Epoch 29/200\n",
      "90/90 [==============================] - 0s 100us/sample - loss: 0.9025 - acc: 0.8556\n",
      "Epoch 30/200\n",
      "90/90 [==============================] - 0s 89us/sample - loss: 0.8986 - acc: 0.8556\n",
      "Epoch 31/200\n",
      "90/90 [==============================] - 0s 78us/sample - loss: 0.8936 - acc: 0.8667\n",
      "Epoch 32/200\n",
      "90/90 [==============================] - 0s 0s/sample - loss: 0.8888 - acc: 0.8778\n",
      "Epoch 33/200\n",
      "90/90 [==============================] - 0s 174us/sample - loss: 0.8843 - acc: 0.8778\n",
      "Epoch 34/200\n",
      "90/90 [==============================] - 0s 0s/sample - loss: 0.8796 - acc: 0.8778\n",
      "Epoch 35/200\n",
      "90/90 [==============================] - 0s 89us/sample - loss: 0.8750 - acc: 0.8778\n",
      "Epoch 36/200\n",
      "90/90 [==============================] - 0s 136us/sample - loss: 0.8703 - acc: 0.8889\n",
      "Epoch 37/200\n",
      "90/90 [==============================] - 0s 111us/sample - loss: 0.8655 - acc: 0.8778\n",
      "Epoch 38/200\n",
      "90/90 [==============================] - 0s 56us/sample - loss: 0.8608 - acc: 0.8889\n",
      "Epoch 39/200\n",
      "90/90 [==============================] - 0s 111us/sample - loss: 0.8559 - acc: 0.8889\n",
      "Epoch 40/200\n",
      "90/90 [==============================] - 0s 145us/sample - loss: 0.8510 - acc: 0.8889\n",
      "Epoch 41/200\n",
      "90/90 [==============================] - 0s 89us/sample - loss: 0.8462 - acc: 0.8889\n",
      "Epoch 42/200\n",
      "90/90 [==============================] - 0s 78us/sample - loss: 0.8411 - acc: 0.8778\n",
      "Epoch 43/200\n",
      "90/90 [==============================] - 0s 67us/sample - loss: 0.8361 - acc: 0.8889\n",
      "Epoch 44/200\n",
      "90/90 [==============================] - 0s 100us/sample - loss: 0.8312 - acc: 0.8889\n",
      "Epoch 45/200\n",
      "90/90 [==============================] - 0s 67us/sample - loss: 0.8260 - acc: 0.8778\n",
      "Epoch 46/200\n",
      "90/90 [==============================] - 0s 78us/sample - loss: 0.8210 - acc: 0.8778\n",
      "Epoch 47/200\n",
      "90/90 [==============================] - 0s 100us/sample - loss: 0.8164 - acc: 0.8778\n",
      "Epoch 48/200\n",
      "90/90 [==============================] - 0s 100us/sample - loss: 0.8112 - acc: 0.8778\n",
      "Epoch 49/200\n",
      "90/90 [==============================] - 0s 78us/sample - loss: 0.8059 - acc: 0.8778\n",
      "Epoch 50/200\n",
      "90/90 [==============================] - 0s 67us/sample - loss: 0.8009 - acc: 0.8778\n",
      "Epoch 51/200\n",
      "90/90 [==============================] - 0s 111us/sample - loss: 0.7959 - acc: 0.8778\n",
      "Epoch 52/200\n",
      "90/90 [==============================] - 0s 100us/sample - loss: 0.7906 - acc: 0.8889\n",
      "Epoch 53/200\n",
      "90/90 [==============================] - 0s 67us/sample - loss: 0.7856 - acc: 0.8778\n",
      "Epoch 54/200\n",
      "90/90 [==============================] - 0s 78us/sample - loss: 0.7804 - acc: 0.8778\n",
      "Epoch 55/200\n",
      "90/90 [==============================] - 0s 100us/sample - loss: 0.7756 - acc: 0.8778\n",
      "Epoch 56/200\n",
      "90/90 [==============================] - 0s 78us/sample - loss: 0.7708 - acc: 0.8889\n",
      "Epoch 57/200\n",
      "90/90 [==============================] - 0s 67us/sample - loss: 0.7655 - acc: 0.8889\n",
      "Epoch 58/200\n",
      "90/90 [==============================] - 0s 78us/sample - loss: 0.7600 - acc: 0.8889\n",
      "Epoch 59/200\n",
      "90/90 [==============================] - 0s 144us/sample - loss: 0.7551 - acc: 0.8889\n",
      "Epoch 60/200\n",
      "90/90 [==============================] - 0s 89us/sample - loss: 0.7500 - acc: 0.8889\n",
      "Epoch 61/200\n",
      "90/90 [==============================] - 0s 78us/sample - loss: 0.7449 - acc: 0.8889\n",
      "Epoch 62/200\n",
      "90/90 [==============================] - 0s 67us/sample - loss: 0.7400 - acc: 0.8889\n",
      "Epoch 63/200\n",
      "90/90 [==============================] - 0s 89us/sample - loss: 0.7350 - acc: 0.8889\n",
      "Epoch 64/200\n",
      "90/90 [==============================] - 0s 67us/sample - loss: 0.7298 - acc: 0.8889\n",
      "Epoch 65/200\n",
      "90/90 [==============================] - 0s 100us/sample - loss: 0.7250 - acc: 0.8889\n",
      "Epoch 66/200\n",
      "90/90 [==============================] - 0s 100us/sample - loss: 0.7201 - acc: 0.8889\n",
      "Epoch 67/200\n",
      "90/90 [==============================] - 0s 89us/sample - loss: 0.7149 - acc: 0.8889\n",
      "Epoch 68/200\n",
      "90/90 [==============================] - 0s 78us/sample - loss: 0.7099 - acc: 0.8889\n",
      "Epoch 69/200\n",
      "90/90 [==============================] - 0s 78us/sample - loss: 0.7049 - acc: 0.8889\n",
      "Epoch 70/200\n",
      "90/90 [==============================] - 0s 100us/sample - loss: 0.7001 - acc: 0.8889\n",
      "Epoch 71/200\n",
      "90/90 [==============================] - 0s 78us/sample - loss: 0.6953 - acc: 0.8889\n",
      "Epoch 72/200\n",
      "90/90 [==============================] - 0s 67us/sample - loss: 0.6903 - acc: 0.8889\n",
      "Epoch 73/200\n",
      "90/90 [==============================] - 0s 67us/sample - loss: 0.6855 - acc: 0.8889\n",
      "Epoch 74/200\n",
      "90/90 [==============================] - 0s 0s/sample - loss: 0.6807 - acc: 0.8889\n",
      "Epoch 75/200\n",
      "90/90 [==============================] - 0s 174us/sample - loss: 0.6758 - acc: 0.9000\n",
      "Epoch 76/200\n",
      "90/90 [==============================] - 0s 0s/sample - loss: 0.6711 - acc: 0.9000\n",
      "Epoch 77/200\n",
      "90/90 [==============================] - 0s 0s/sample - loss: 0.6666 - acc: 0.9000\n",
      "Epoch 78/200\n",
      "90/90 [==============================] - 0s 174us/sample - loss: 0.6618 - acc: 0.9000\n",
      "Epoch 79/200\n",
      "90/90 [==============================] - 0s 56us/sample - loss: 0.6577 - acc: 0.8889\n",
      "Epoch 80/200\n",
      "90/90 [==============================] - 0s 111us/sample - loss: 0.6525 - acc: 0.9000\n",
      "Epoch 81/200\n",
      "90/90 [==============================] - 0s 111us/sample - loss: 0.6481 - acc: 0.9000\n",
      "Epoch 82/200\n",
      "90/90 [==============================] - 0s 255us/sample - loss: 0.6436 - acc: 0.9000\n",
      "Epoch 83/200\n",
      "90/90 [==============================] - 0s 167us/sample - loss: 0.6390 - acc: 0.9000\n",
      "Epoch 84/200\n"
     ]
    },
    {
     "name": "stdout",
     "output_type": "stream",
     "text": [
      "90/90 [==============================] - 0s 100us/sample - loss: 0.6347 - acc: 0.9000\n",
      "Epoch 85/200\n",
      "90/90 [==============================] - 0s 244us/sample - loss: 0.6301 - acc: 0.9000\n",
      "Epoch 86/200\n",
      "90/90 [==============================] - 0s 211us/sample - loss: 0.6264 - acc: 0.9000\n",
      "Epoch 87/200\n",
      "90/90 [==============================] - 0s 211us/sample - loss: 0.6217 - acc: 0.9111\n",
      "Epoch 88/200\n",
      "90/90 [==============================] - 0s 200us/sample - loss: 0.6174 - acc: 0.9111\n",
      "Epoch 89/200\n",
      "90/90 [==============================] - 0s 200us/sample - loss: 0.6133 - acc: 0.9111\n",
      "Epoch 90/200\n",
      "90/90 [==============================] - 0s 111us/sample - loss: 0.6090 - acc: 0.9000\n",
      "Epoch 91/200\n",
      "90/90 [==============================] - 0s 222us/sample - loss: 0.6049 - acc: 0.9111\n",
      "Epoch 92/200\n",
      "90/90 [==============================] - 0s 189us/sample - loss: 0.6008 - acc: 0.9111\n",
      "Epoch 93/200\n",
      "90/90 [==============================] - 0s 122us/sample - loss: 0.5970 - acc: 0.9000\n",
      "Epoch 94/200\n",
      "90/90 [==============================] - 0s 133us/sample - loss: 0.5928 - acc: 0.9000\n",
      "Epoch 95/200\n",
      "90/90 [==============================] - 0s 133us/sample - loss: 0.5887 - acc: 0.9000\n",
      "Epoch 96/200\n",
      "90/90 [==============================] - 0s 111us/sample - loss: 0.5849 - acc: 0.9111\n",
      "Epoch 97/200\n",
      "90/90 [==============================] - 0s 100us/sample - loss: 0.5811 - acc: 0.9111\n",
      "Epoch 98/200\n",
      "90/90 [==============================] - 0s 67us/sample - loss: 0.5772 - acc: 0.9111\n",
      "Epoch 99/200\n",
      "90/90 [==============================] - 0s 78us/sample - loss: 0.5734 - acc: 0.9111\n",
      "Epoch 100/200\n",
      "90/90 [==============================] - 0s 67us/sample - loss: 0.5696 - acc: 0.9222\n",
      "Epoch 101/200\n",
      "90/90 [==============================] - 0s 78us/sample - loss: 0.5660 - acc: 0.9222\n",
      "Epoch 102/200\n",
      "90/90 [==============================] - 0s 67us/sample - loss: 0.5624 - acc: 0.9222\n",
      "Epoch 103/200\n",
      "90/90 [==============================] - 0s 89us/sample - loss: 0.5586 - acc: 0.9222\n",
      "Epoch 104/200\n",
      "90/90 [==============================] - 0s 67us/sample - loss: 0.5553 - acc: 0.9222\n",
      "Epoch 105/200\n",
      "90/90 [==============================] - 0s 89us/sample - loss: 0.5516 - acc: 0.9222\n",
      "Epoch 106/200\n",
      "90/90 [==============================] - 0s 67us/sample - loss: 0.5481 - acc: 0.9222\n",
      "Epoch 107/200\n",
      "90/90 [==============================] - 0s 89us/sample - loss: 0.5449 - acc: 0.9222\n",
      "Epoch 108/200\n",
      "90/90 [==============================] - 0s 0s/sample - loss: 0.5412 - acc: 0.9222\n",
      "Epoch 109/200\n",
      "90/90 [==============================] - 0s 174us/sample - loss: 0.5377 - acc: 0.9222\n",
      "Epoch 110/200\n",
      "90/90 [==============================] - 0s 168us/sample - loss: 0.5344 - acc: 0.9333\n",
      "Epoch 111/200\n",
      "90/90 [==============================] - 0s 89us/sample - loss: 0.5310 - acc: 0.9333\n",
      "Epoch 112/200\n",
      "90/90 [==============================] - 0s 58us/sample - loss: 0.5278 - acc: 0.9333\n",
      "Epoch 113/200\n",
      "90/90 [==============================] - 0s 0s/sample - loss: 0.5246 - acc: 0.9333\n",
      "Epoch 114/200\n",
      "90/90 [==============================] - 0s 0s/sample - loss: 0.5213 - acc: 0.9222\n",
      "Epoch 115/200\n",
      "90/90 [==============================] - 0s 174us/sample - loss: 0.5182 - acc: 0.9333\n",
      "Epoch 116/200\n",
      "90/90 [==============================] - 0s 0s/sample - loss: 0.5150 - acc: 0.9333\n",
      "Epoch 117/200\n",
      "90/90 [==============================] - 0s 174us/sample - loss: 0.5122 - acc: 0.9333\n",
      "Epoch 118/200\n",
      "90/90 [==============================] - 0s 174us/sample - loss: 0.5089 - acc: 0.9333\n",
      "Epoch 119/200\n",
      "90/90 [==============================] - 0s 78us/sample - loss: 0.5059 - acc: 0.9333\n",
      "Epoch 120/200\n",
      "90/90 [==============================] - 0s 111us/sample - loss: 0.5030 - acc: 0.9333\n",
      "Epoch 121/200\n",
      "90/90 [==============================] - 0s 189us/sample - loss: 0.5003 - acc: 0.9333\n",
      "Epoch 122/200\n",
      "90/90 [==============================] - 0s 167us/sample - loss: 0.4974 - acc: 0.9444\n",
      "Epoch 123/200\n",
      "90/90 [==============================] - 0s 189us/sample - loss: 0.4944 - acc: 0.9444\n",
      "Epoch 124/200\n",
      "90/90 [==============================] - 0s 200us/sample - loss: 0.4916 - acc: 0.9444\n",
      "Epoch 125/200\n",
      "90/90 [==============================] - 0s 189us/sample - loss: 0.4889 - acc: 0.9333\n",
      "Epoch 126/200\n",
      "90/90 [==============================] - 0s 355us/sample - loss: 0.4861 - acc: 0.9333\n",
      "Epoch 127/200\n",
      "90/90 [==============================] - 0s 178us/sample - loss: 0.4833 - acc: 0.9333\n",
      "Epoch 128/200\n",
      "90/90 [==============================] - 0s 200us/sample - loss: 0.4806 - acc: 0.9333\n",
      "Epoch 129/200\n",
      "90/90 [==============================] - 0s 178us/sample - loss: 0.4780 - acc: 0.9333\n",
      "Epoch 130/200\n",
      "90/90 [==============================] - 0s 67us/sample - loss: 0.4753 - acc: 0.9333\n",
      "Epoch 131/200\n",
      "90/90 [==============================] - 0s 178us/sample - loss: 0.4728 - acc: 0.9333\n",
      "Epoch 132/200\n",
      "90/90 [==============================] - 0s 133us/sample - loss: 0.4702 - acc: 0.9333\n",
      "Epoch 133/200\n",
      "90/90 [==============================] - 0s 155us/sample - loss: 0.4677 - acc: 0.9333\n",
      "Epoch 134/200\n",
      "90/90 [==============================] - 0s 200us/sample - loss: 0.4655 - acc: 0.9333\n",
      "Epoch 135/200\n",
      "90/90 [==============================] - 0s 144us/sample - loss: 0.4627 - acc: 0.9444\n",
      "Epoch 136/200\n",
      "90/90 [==============================] - 0s 100us/sample - loss: 0.4602 - acc: 0.9333\n",
      "Epoch 137/200\n",
      "90/90 [==============================] - 0s 133us/sample - loss: 0.4578 - acc: 0.9333\n",
      "Epoch 138/200\n",
      "90/90 [==============================] - 0s 56us/sample - loss: 0.4555 - acc: 0.9333\n",
      "Epoch 139/200\n",
      "90/90 [==============================] - 0s 67us/sample - loss: 0.4531 - acc: 0.9333\n",
      "Epoch 140/200\n",
      "90/90 [==============================] - 0s 67us/sample - loss: 0.4508 - acc: 0.9444\n",
      "Epoch 141/200\n",
      "90/90 [==============================] - 0s 56us/sample - loss: 0.4485 - acc: 0.9444\n",
      "Epoch 142/200\n",
      "90/90 [==============================] - 0s 60us/sample - loss: 0.4462 - acc: 0.9444\n",
      "Epoch 143/200\n",
      "90/90 [==============================] - 0s 0s/sample - loss: 0.4440 - acc: 0.9444\n",
      "Epoch 144/200\n",
      "90/90 [==============================] - 0s 231us/sample - loss: 0.4417 - acc: 0.9333\n",
      "Epoch 145/200\n",
      "90/90 [==============================] - 0s 67us/sample - loss: 0.4395 - acc: 0.9333\n",
      "Epoch 146/200\n",
      "90/90 [==============================] - 0s 67us/sample - loss: 0.4374 - acc: 0.9333\n",
      "Epoch 147/200\n",
      "90/90 [==============================] - 0s 67us/sample - loss: 0.4354 - acc: 0.9444\n",
      "Epoch 148/200\n",
      "90/90 [==============================] - 0s 89us/sample - loss: 0.4331 - acc: 0.9444\n",
      "Epoch 149/200\n",
      "90/90 [==============================] - 0s 32us/sample - loss: 0.4311 - acc: 0.9333\n",
      "Epoch 150/200\n",
      "90/90 [==============================] - 0s 0s/sample - loss: 0.4289 - acc: 0.9333\n",
      "Epoch 151/200\n",
      "90/90 [==============================] - 0s 0s/sample - loss: 0.4270 - acc: 0.9333\n",
      "Epoch 152/200\n",
      "90/90 [==============================] - 0s 174us/sample - loss: 0.4249 - acc: 0.9333\n",
      "Epoch 153/200\n",
      "90/90 [==============================] - 0s 0s/sample - loss: 0.4233 - acc: 0.9333\n",
      "Epoch 154/200\n",
      "90/90 [==============================] - 0s 0s/sample - loss: 0.4209 - acc: 0.9444\n",
      "Epoch 155/200\n",
      "90/90 [==============================] - 0s 174us/sample - loss: 0.4190 - acc: 0.9444\n",
      "Epoch 156/200\n",
      "90/90 [==============================] - 0s 174us/sample - loss: 0.4171 - acc: 0.9444\n",
      "Epoch 157/200\n",
      "90/90 [==============================] - 0s 0s/sample - loss: 0.4154 - acc: 0.9444\n",
      "Epoch 158/200\n",
      "90/90 [==============================] - 0s 0s/sample - loss: 0.4135 - acc: 0.9444\n",
      "Epoch 159/200\n",
      "90/90 [==============================] - 0s 174us/sample - loss: 0.4116 - acc: 0.9444\n",
      "Epoch 160/200\n",
      "90/90 [==============================] - 0s 0s/sample - loss: 0.4096 - acc: 0.9444\n",
      "Epoch 161/200\n",
      "90/90 [==============================] - 0s 0s/sample - loss: 0.4084 - acc: 0.9333\n",
      "Epoch 162/200\n",
      "90/90 [==============================] - 0s 174us/sample - loss: 0.4066 - acc: 0.9444\n",
      "Epoch 163/200\n",
      "90/90 [==============================] - 0s 0s/sample - loss: 0.4043 - acc: 0.9444\n",
      "Epoch 164/200\n",
      "90/90 [==============================] - 0s 239us/sample - loss: 0.4027 - acc: 0.9444\n",
      "Epoch 165/200\n",
      "90/90 [==============================] - 0s 178us/sample - loss: 0.4008 - acc: 0.9444\n",
      "Epoch 166/200\n"
     ]
    },
    {
     "name": "stdout",
     "output_type": "stream",
     "text": [
      "90/90 [==============================] - 0s 78us/sample - loss: 0.3991 - acc: 0.9444\n",
      "Epoch 167/200\n",
      "90/90 [==============================] - 0s 67us/sample - loss: 0.3976 - acc: 0.9444\n",
      "Epoch 168/200\n",
      "90/90 [==============================] - 0s 95us/sample - loss: 0.3958 - acc: 0.9444\n",
      "Epoch 169/200\n",
      "90/90 [==============================] - 0s 100us/sample - loss: 0.3940 - acc: 0.9444\n",
      "Epoch 170/200\n",
      "90/90 [==============================] - 0s 155us/sample - loss: 0.3925 - acc: 0.9444\n",
      "Epoch 171/200\n",
      "90/90 [==============================] - 0s 134us/sample - loss: 0.3909 - acc: 0.9444\n",
      "Epoch 172/200\n",
      "90/90 [==============================] - 0s 111us/sample - loss: 0.3891 - acc: 0.9444\n",
      "Epoch 173/200\n",
      "90/90 [==============================] - 0s 112us/sample - loss: 0.3876 - acc: 0.9444\n",
      "Epoch 174/200\n",
      "90/90 [==============================] - 0s 89us/sample - loss: 0.3860 - acc: 0.9444\n",
      "Epoch 175/200\n",
      "90/90 [==============================] - 0s 89us/sample - loss: 0.3847 - acc: 0.9444\n",
      "Epoch 176/200\n",
      "90/90 [==============================] - 0s 185us/sample - loss: 0.3830 - acc: 0.9444\n",
      "Epoch 177/200\n",
      "90/90 [==============================] - 0s 130us/sample - loss: 0.3814 - acc: 0.9444\n",
      "Epoch 178/200\n",
      "90/90 [==============================] - 0s 67us/sample - loss: 0.3798 - acc: 0.9444\n",
      "Epoch 179/200\n",
      "90/90 [==============================] - 0s 90us/sample - loss: 0.3784 - acc: 0.9444\n",
      "Epoch 180/200\n",
      "90/90 [==============================] - ETA: 0s - loss: 0.3585 - acc: 0.968 - 0s 111us/sample - loss: 0.3769 - acc: 0.9444\n",
      "Epoch 181/200\n",
      "90/90 [==============================] - 0s 89us/sample - loss: 0.3757 - acc: 0.9444\n",
      "Epoch 182/200\n",
      "90/90 [==============================] - 0s 100us/sample - loss: 0.3739 - acc: 0.9444\n",
      "Epoch 183/200\n",
      "90/90 [==============================] - 0s 100us/sample - loss: 0.3724 - acc: 0.9444\n",
      "Epoch 184/200\n",
      "90/90 [==============================] - 0s 67us/sample - loss: 0.3710 - acc: 0.9444\n",
      "Epoch 185/200\n",
      "90/90 [==============================] - 0s 100us/sample - loss: 0.3697 - acc: 0.9444\n",
      "Epoch 186/200\n",
      "90/90 [==============================] - 0s 31us/sample - loss: 0.3684 - acc: 0.9444\n",
      "Epoch 187/200\n",
      "90/90 [==============================] - 0s 0s/sample - loss: 0.3669 - acc: 0.9444\n",
      "Epoch 188/200\n",
      "90/90 [==============================] - 0s 67us/sample - loss: 0.3655 - acc: 0.9444\n",
      "Epoch 189/200\n",
      "90/90 [==============================] - 0s 78us/sample - loss: 0.3640 - acc: 0.9444\n",
      "Epoch 190/200\n",
      "90/90 [==============================] - 0s 100us/sample - loss: 0.3627 - acc: 0.9444\n",
      "Epoch 191/200\n",
      "90/90 [==============================] - 0s 0s/sample - loss: 0.3613 - acc: 0.9444\n",
      "Epoch 192/200\n",
      "90/90 [==============================] - 0s 174us/sample - loss: 0.3600 - acc: 0.9444\n",
      "Epoch 193/200\n",
      "90/90 [==============================] - 0s 0s/sample - loss: 0.3590 - acc: 0.9444\n",
      "Epoch 194/200\n",
      "90/90 [==============================] - 0s 166us/sample - loss: 0.3574 - acc: 0.9444\n",
      "Epoch 195/200\n",
      "90/90 [==============================] - 0s 89us/sample - loss: 0.3560 - acc: 0.9444\n",
      "Epoch 196/200\n",
      "90/90 [==============================] - 0s 78us/sample - loss: 0.3553 - acc: 0.9444\n",
      "Epoch 197/200\n",
      "90/90 [==============================] - 0s 100us/sample - loss: 0.3535 - acc: 0.9444\n",
      "Epoch 198/200\n",
      "90/90 [==============================] - 0s 100us/sample - loss: 0.3522 - acc: 0.9444\n",
      "Epoch 199/200\n",
      "90/90 [==============================] - 0s 89us/sample - loss: 0.3509 - acc: 0.9444\n",
      "Epoch 200/200\n",
      "90/90 [==============================] - 0s 278us/sample - loss: 0.3497 - acc: 0.9444\n"
     ]
    },
    {
     "data": {
      "text/plain": [
       "<tensorflow.python.keras.callbacks.History at 0x2059d6625c0>"
      ]
     },
     "execution_count": 190,
     "metadata": {},
     "output_type": "execute_result"
    }
   ],
   "source": [
    "model.fit(x_train , encoded_y_train , epochs=200)"
   ]
  },
  {
   "cell_type": "code",
   "execution_count": 191,
   "metadata": {},
   "outputs": [
    {
     "name": "stdout",
     "output_type": "stream",
     "text": [
      "60/60 - 0s - loss: 0.3637 - acc: 0.9500\n"
     ]
    },
    {
     "data": {
      "text/plain": [
       "[0.36370757818222044, 0.95]"
      ]
     },
     "execution_count": 191,
     "metadata": {},
     "output_type": "execute_result"
    }
   ],
   "source": [
    "results = model.evaluate(x_test, encoded_y_test,verbose=2)\n",
    "results"
   ]
  },
  {
   "cell_type": "code",
   "execution_count": 192,
   "metadata": {},
   "outputs": [
    {
     "data": {
      "text/plain": [
       "array([2], dtype=int64)"
      ]
     },
     "execution_count": 192,
     "metadata": {},
     "output_type": "execute_result"
    }
   ],
   "source": [
    "i = 40\n",
    "prediction =  model.predict_classes(x_test[i].reshape(1,4))\n",
    "prediction"
   ]
  },
  {
   "cell_type": "code",
   "execution_count": 194,
   "metadata": {},
   "outputs": [
    {
     "name": "stdout",
     "output_type": "stream",
     "text": [
      "The data is : [4.9 2.5 4.5 1.7] and I have predicted that it's a [2] i.e virginica\n",
      "Actual data : [4.9 2.5 4.5 1.7] actual label : Virginica\n"
     ]
    }
   ],
   "source": [
    "if prediction == 0:\n",
    "  print(\"The data is :\",x_test[i],\"and I have predicted that it's a\",prediction,\"i.e setosa\")\n",
    "  print(\"Actual data :\",x_test[i] , \"actual label :\",y_test[i])\n",
    "\n",
    "elif prediction == 1:\n",
    "  print(\"The data is :\",x_test[i],\"and I have predicted that it's a\",prediction,\"i.e versicolor\")\n",
    "  print(\"Actual data :\",x_test[i] , \"actual label :\",y_test[i])\n",
    "\n",
    "else:\n",
    "  print(\"The data is :\",x_test[i],\"and I have predicted that it's a\",prediction,\"i.e virginica\")\n",
    "  print(\"Actual data :\",x_test[i] , \"actual label :\",y_test[i])\n"
   ]
  },
  {
   "cell_type": "code",
   "execution_count": null,
   "metadata": {},
   "outputs": [],
   "source": []
  }
 ],
 "metadata": {
  "kernelspec": {
   "display_name": "Python 3",
   "language": "python",
   "name": "python3"
  },
  "language_info": {
   "codemirror_mode": {
    "name": "ipython",
    "version": 3
   },
   "file_extension": ".py",
   "mimetype": "text/x-python",
   "name": "python",
   "nbconvert_exporter": "python",
   "pygments_lexer": "ipython3",
   "version": "3.7.3"
  }
 },
 "nbformat": 4,
 "nbformat_minor": 2
}
